{
 "cells": [
  {
   "cell_type": "markdown",
   "metadata": {},
   "source": [
    "# Dependancies"
   ]
  },
  {
   "cell_type": "code",
   "execution_count": null,
   "metadata": {
    "collapsed": true
   },
   "outputs": [],
   "source": [
    "import pandas as pd\n",
    "import numpy as np\n",
    "\n",
    "import datetime as dt\n",
    "\n",
    "import matplotlib.pyplot as plt\n",
    "import matplotlib.dates as mdates\n",
    "import matplotlib.colors as mcolors\n",
    "\n",
    "import math\n",
    "from scipy.stats import skew\n",
    "from scipy.stats import stats\n",
    "from scipy import fftpack\n",
    "\n",
    "try:\n",
    "    import tkinter.ttk\n",
    "    from tkinter import *\n",
    "except:\n",
    "    from tkinter import *\n",
    "    \n",
    "from tkinter import messagebox\n",
    "from tkinter import filedialog\n",
    "\n",
    "from pandas.plotting import scatter_matrix\n",
    "from pandas.plotting import lag_plot\n",
    "from pandas.plotting import autocorrelation_plot\n",
    "from pandas.plotting import bootstrap_plot\n",
    "\n",
    "import os\n",
    "import sys\n",
    "\n",
    "from IPython.core.display import HTML"
   ]
  },
  {
   "cell_type": "markdown",
   "metadata": {},
   "source": [
    "# Classes"
   ]
  },
  {
   "cell_type": "code",
   "execution_count": null,
   "metadata": {
    "collapsed": true
   },
   "outputs": [],
   "source": [
    "class TestData():\n",
    "    \n",
    "    data_columns_list=list()\n",
    "    \n",
    "    def __init__(self,datafile):\n",
    "        self.datafile=datafile\n",
    "        \n",
    "    def get_data(self):\n",
    "        self.data=pd.read_csv(self.datafile, skiprows=None)\n",
    "        pretty_display(self.data)\n",
    "        TestData.data_columns_list=self.data.columns.tolist()\n",
    "        print(f'THE HEADERS:{TestData.data_columns_list}')\n",
    "        self.drop_unused_columns()\n",
    "        \n",
    "        \n",
    "    def drop_unused_columns(self):\n",
    "        # All of the columns named UNUSED\n",
    "        p=self.data.loc[:, self.data.columns.str.contains('Unnamed')].head()\n",
    "        self.data.drop(p,axis=1,inplace=True)\n",
    "        pretty_display(self.data)\n",
    "        self.clean_data()\n",
    "        \n",
    "    def clean_data(self):\n",
    "        #replacing header spaces with underscores \n",
    "        self.data.columns=self.data.columns.str.replace(' ','_')\n",
    "\n",
    "        #replacing header dashes with underscores\n",
    "        self.data.columns=self.data.columns.str.replace('-','_')\n",
    "        self.data.columns=self.data.columns.str.replace(':','')\n",
    "        self.data.columns=self.data.columns.str.replace('@','')\n",
    "        pretty_display(self.data)\n",
    "        \n",
    "        \n",
    "    def plot_data(self):\n",
    "    \n",
    "        pd.set_option('precision',1)\n",
    "        plt.style.use('ggplot')\n",
    "\n",
    "        fig, ax = plt.subplots(2,1,figsize=(15,10))\n",
    "\n",
    "        plt.suptitle('The Graph')\n",
    "\n",
    "        the_labels=self.data.columns.tolist()\n",
    "#         print(the_labels)\n",
    "        \n",
    "        xlow=self.data['Time_in_Seconds'].min()\n",
    "        xhigh=self.data['Time_in_Seconds'].max()\n",
    "        pressure_max=round(self.data['Port_3'].max(),ndigits=1)\n",
    "\n",
    "        ax[0]=plt.subplot(211)\n",
    "        ax[0].plot(self.data['Time_in_Seconds'],self.data['Port_3'])\n",
    "        ax[0].axhline(y=pressure_max,linewidth=4, color='black',linestyle=\"--\")\n",
    "        ax[0].set_xlabel('Time in Sesconds')\n",
    "        ax[0].set_ylabel('Pressure (PSIG)')\n",
    "        ax[0].set_xlim(xlow,xhigh)\n",
    "        ax[0].set_title(f'Max Pressure:{pressure_max} PSIG',loc='left')\n",
    "        ax[0].legend()\n",
    "        \n",
    "        ax[1]=plt.subplot(212)\n",
    "        ax[1].plot(self.data['Time_in_Seconds'],self.data['Port_3'])\n",
    "        ax[1].set_xlabel('Time in Sesconds')\n",
    "        ax[1].set_ylabel('Pressure (PSIG)')\n",
    "        ax[1].set_xlim(xlow,xhigh)\n",
    "        ax[1].set_title('Pressure',loc='left')\n",
    "        ax[1].legend()\n",
    "\n",
    "        plt.show()\n",
    "        "
   ]
  },
  {
   "cell_type": "code",
   "execution_count": null,
   "metadata": {
    "collapsed": true
   },
   "outputs": [],
   "source": [
    "class UserInterface():\n",
    "    \"\"\"Parent class for the UI. Instantiates the composit Window\"\"\"\n",
    "    def __init__(self):\n",
    "        UI(None)\n",
    "        mainloop()\n",
    "\n",
    "\n",
    "class UI(Tk):\n",
    "    \"\"\"User Interface.\"\"\"\n",
    "    \n",
    "    now=dt.date.today().strftime('%B %d, %Y')\n",
    "    time_of_day=dt.datetime.today().strftime('%I:%M:%S %p')\n",
    "    \n",
    "        \n",
    "    initialdir=os.getcwd()\n",
    "    \n",
    "    def __init__(self,parent,*args,**kargs):\n",
    "        \"\"\"Create the UI Window\"\"\"\n",
    "        Tk.__init__(self,parent,*args,**kargs)\n",
    "        \n",
    "        self.parent=parent\n",
    "        self.initialize()\n",
    "        self.banner=Label(self,text=f'DRILLING CONTROLS DATA PLOTS & ANALYSIS - {UI.now}',fg='white',bg='blue',font='Ariel 30 bold')\n",
    "        self.banner.grid(row=0,column=0, columnspan=2)\n",
    "\n",
    "    def initialize(self):\n",
    "            \"\"\"Set-up and configure the UI window\"\"\"\n",
    "            self.title('UML Project')\n",
    "            the_window_width=self.winfo_screenwidth()\n",
    "            the_window_height=self.winfo_screenheight()\n",
    "    #         self.configure(width=the_window_width,height=the_window_height)\n",
    "    #         the_window_width=1200\n",
    "    #         the_window_height=700\n",
    "            self.geometry(f'{the_window_width}x{the_window_height}+0+0')\n",
    "    #         self.attributes('-fullscreen', True)\n",
    "            self['borderwidth']=4\n",
    "            self['bg']='blue'\n",
    "            self.menubar=Menu(self)\n",
    "            self.menubar.add_command(label=\"Exit\",font='ariel',command=self.bye_bye)\n",
    "            self.config(menu=self.menubar)\n",
    "            self.makeFields()\n",
    "    \n",
    "    def bye_bye(self):\n",
    "        \"\"\"Close the UI Window on menu Exit\"\"\"\n",
    "        self.destroy()\n",
    "        \n",
    "    def makeFields(self):\n",
    "        \"\"\"Generate the fields and buttons\"\"\"\n",
    "        # make the frame\n",
    "        self.frame1=Frame(self.parent)\n",
    "        self.frame1['background']='green'\n",
    "        self.frame1['relief']='raised'\n",
    "        self.frame1['borderwidth']=10\n",
    "        self.frame1.grid(row=1,column=1)\n",
    "        banner_text='Drilling Controls-Data Plotting & Analysis'\n",
    "        frame_banner=Label(self.frame1,text=banner_text,fg='white',bg='green',font='Ariel 15 bold')\n",
    "        frame_banner.grid(row=0,column=0,columnspan=5,pady=15)\n",
    "        self.v1=StringVar()\n",
    "        self.txt_file=Entry(self.frame1,bg='yellow',font='Ariel 15 bold',width=30,textvariable=self.v1)\n",
    "        self.txt_file.grid(row=3,column=0,sticky=E)\n",
    "        \n",
    "        # Buttons\n",
    "        \n",
    "        self.access_dir=Button(self.frame1, text=\"Open Directory\",bg='blue',fg='yellow',relief='raised',state='normal',command=self.open_directory)\n",
    "        self.access_dir.grid(row=5,column=0,sticky=W,pady=15)\n",
    "        \n",
    "        # Header list box\n",
    "        self.header_list=Listbox(self.frame1)\n",
    "        self.header_list['selectmode']=EXTENDED\n",
    "        self.header_list.grid(row=6,column=0,sticky=W,pady=15)\n",
    "        \n",
    "        \n",
    "        \n",
    "        \n",
    "    def open_directory(self):\n",
    "        \"\"\"Opens the directory folder for user to access\"\"\"\n",
    "        \n",
    "        x=filedialog.askopenfilename(initialdir = UI.initialdir,title = \"Directory\",\n",
    "                                     filetypes = ((\"csv files\",\"*.csv\"),(\"all files\",\"*.*\")))\n",
    "        \n",
    "        print(x)\n",
    "        \n",
    "        self.set_directory(x)\n",
    "\n",
    "        the_file_name=x.split(sep='/')[-1].split('.')[0]\n",
    "        self.v1.set(the_file_name)\n",
    "        dataFile=f'{the_file_name}.csv'\n",
    "        print(dataFile)\n",
    "        \n",
    "        \n",
    "        \n",
    "        x=TestData(dataFile)\n",
    "        x.get_data()\n",
    "        \n",
    "        self.header_list.delete(0,END)\n",
    "        header_list=TestData.data_columns_list\n",
    "        print(f'HEADERS:{header_list}')\n",
    "        for i in header_list:\n",
    "            self.header_list.insert(END,i)\n",
    "        \n",
    "        x.plot_data()\n",
    "    \n",
    "        self.header_list.bind(\"<<ListboxSelect>>\",lambda x:self.selected_columns())\n",
    "            \n",
    "    def selected_columns(self):\n",
    "        selection=self.header_list.curselection()\n",
    "        c=self.header_list.get(ANCHOR)\n",
    "        print(c)\n",
    "    \n",
    "        \n",
    "    def set_directory(self,selectedFile):\n",
    "        \"\"\"Changes the initialdir for the filedialog window and uses the same directory for files saved.\"\"\"\n",
    "        \n",
    "        filename=selectedFile.split(sep='/')[-1]\n",
    "        \n",
    "        the_dir=selectedFile.split(sep=filename)\n",
    "        \n",
    "        UI.initialdir=the_dir[0]"
   ]
  },
  {
   "cell_type": "markdown",
   "metadata": {},
   "source": [
    "# Functions"
   ]
  },
  {
   "cell_type": "code",
   "execution_count": null,
   "metadata": {
    "collapsed": true
   },
   "outputs": [],
   "source": [
    "def pretty_display(dataframe):\n",
    "    display(HTML(dataframe.head().to_html()))"
   ]
  },
  {
   "cell_type": "code",
   "execution_count": null,
   "metadata": {
    "collapsed": true
   },
   "outputs": [],
   "source": []
  },
  {
   "cell_type": "markdown",
   "metadata": {},
   "source": [
    "# Main"
   ]
  },
  {
   "cell_type": "code",
   "execution_count": null,
   "metadata": {
    "collapsed": true,
    "scrolled": false
   },
   "outputs": [],
   "source": [
    "if __name__ == '__main__':\n",
    "    UserInterface()"
   ]
  },
  {
   "cell_type": "code",
   "execution_count": null,
   "metadata": {
    "collapsed": true,
    "deletable": false,
    "editable": false,
    "run_control": {
     "frozen": true
    }
   },
   "outputs": [],
   "source": [
    "x=TestData('999-20_test7_100hz.csv')"
   ]
  },
  {
   "cell_type": "code",
   "execution_count": null,
   "metadata": {
    "collapsed": true
   },
   "outputs": [],
   "source": []
  },
  {
   "cell_type": "code",
   "execution_count": null,
   "metadata": {
    "collapsed": true,
    "deletable": false,
    "editable": false,
    "run_control": {
     "frozen": true
    }
   },
   "outputs": [],
   "source": [
    "x.get_data()"
   ]
  },
  {
   "cell_type": "code",
   "execution_count": null,
   "metadata": {
    "collapsed": true,
    "deletable": false,
    "editable": false,
    "run_control": {
     "frozen": true
    }
   },
   "outputs": [],
   "source": [
    "x.plot_data()"
   ]
  },
  {
   "cell_type": "code",
   "execution_count": null,
   "metadata": {
    "collapsed": true
   },
   "outputs": [],
   "source": []
  },
  {
   "cell_type": "code",
   "execution_count": 8,
   "metadata": {
    "ExecuteTime": {
     "end_time": "2020-06-17T01:39:28.336059Z",
     "start_time": "2020-06-17T01:39:27.658021Z"
    },
    "collapsed": true
   },
   "outputs": [],
   "source": [
    "x=[1,2,3,4]"
   ]
  },
  {
   "cell_type": "code",
   "execution_count": 9,
   "metadata": {
    "ExecuteTime": {
     "end_time": "2020-06-17T01:39:30.664193Z",
     "start_time": "2020-06-17T01:39:28.625076Z"
    }
   },
   "outputs": [
    {
     "data": {
      "text/plain": [
       "[1, 2, 3, 4]"
      ]
     },
     "execution_count": 9,
     "metadata": {},
     "output_type": "execute_result"
    }
   ],
   "source": [
    "x"
   ]
  },
  {
   "cell_type": "code",
   "execution_count": 10,
   "metadata": {
    "ExecuteTime": {
     "end_time": "2020-06-17T01:39:30.818201Z",
     "start_time": "2020-06-17T01:39:30.805201Z"
    },
    "collapsed": true
   },
   "outputs": [],
   "source": [
    "x.clear()"
   ]
  },
  {
   "cell_type": "code",
   "execution_count": 11,
   "metadata": {
    "ExecuteTime": {
     "end_time": "2020-06-17T01:39:32.006269Z",
     "start_time": "2020-06-17T01:39:31.995269Z"
    }
   },
   "outputs": [
    {
     "data": {
      "text/plain": [
       "[]"
      ]
     },
     "execution_count": 11,
     "metadata": {},
     "output_type": "execute_result"
    }
   ],
   "source": [
    "x"
   ]
  },
  {
   "cell_type": "code",
   "execution_count": 12,
   "metadata": {
    "ExecuteTime": {
     "end_time": "2020-06-17T01:40:28.979528Z",
     "start_time": "2020-06-17T01:40:28.974528Z"
    },
    "collapsed": true
   },
   "outputs": [],
   "source": [
    "x=[]"
   ]
  },
  {
   "cell_type": "code",
   "execution_count": 13,
   "metadata": {
    "ExecuteTime": {
     "end_time": "2020-06-17T01:40:31.266659Z",
     "start_time": "2020-06-17T01:40:31.256658Z"
    },
    "collapsed": true
   },
   "outputs": [],
   "source": [
    "x.append(1)"
   ]
  },
  {
   "cell_type": "code",
   "execution_count": 14,
   "metadata": {
    "ExecuteTime": {
     "end_time": "2020-06-17T01:40:31.519673Z",
     "start_time": "2020-06-17T01:40:31.506673Z"
    }
   },
   "outputs": [
    {
     "data": {
      "text/plain": [
       "[1]"
      ]
     },
     "execution_count": 14,
     "metadata": {},
     "output_type": "execute_result"
    }
   ],
   "source": [
    "x"
   ]
  },
  {
   "cell_type": "code",
   "execution_count": 15,
   "metadata": {
    "ExecuteTime": {
     "end_time": "2020-06-17T01:42:01.239805Z",
     "start_time": "2020-06-17T01:42:01.226804Z"
    },
    "collapsed": true
   },
   "outputs": [],
   "source": [
    "x.append(2)"
   ]
  },
  {
   "cell_type": "code",
   "execution_count": 16,
   "metadata": {
    "ExecuteTime": {
     "end_time": "2020-06-17T01:42:08.738234Z",
     "start_time": "2020-06-17T01:42:08.727233Z"
    }
   },
   "outputs": [
    {
     "data": {
      "text/plain": [
       "[1, 2]"
      ]
     },
     "execution_count": 16,
     "metadata": {},
     "output_type": "execute_result"
    }
   ],
   "source": [
    "x"
   ]
  },
  {
   "cell_type": "code",
   "execution_count": 17,
   "metadata": {
    "ExecuteTime": {
     "end_time": "2020-06-17T01:42:44.474278Z",
     "start_time": "2020-06-17T01:42:44.386273Z"
    }
   },
   "outputs": [
    {
     "data": {
      "text/plain": [
       "2"
      ]
     },
     "execution_count": 17,
     "metadata": {},
     "output_type": "execute_result"
    }
   ],
   "source": [
    "x.pop()"
   ]
  },
  {
   "cell_type": "code",
   "execution_count": 19,
   "metadata": {
    "ExecuteTime": {
     "end_time": "2020-06-17T01:45:39.923313Z",
     "start_time": "2020-06-17T01:45:39.911312Z"
    }
   },
   "outputs": [
    {
     "data": {
      "text/plain": [
       "[1]"
      ]
     },
     "execution_count": 19,
     "metadata": {},
     "output_type": "execute_result"
    }
   ],
   "source": [
    "x"
   ]
  },
  {
   "cell_type": "code",
   "execution_count": 20,
   "metadata": {
    "ExecuteTime": {
     "end_time": "2020-06-17T01:46:49.350284Z",
     "start_time": "2020-06-17T01:46:49.319282Z"
    }
   },
   "outputs": [
    {
     "data": {
      "text/plain": [
       "1"
      ]
     },
     "execution_count": 20,
     "metadata": {},
     "output_type": "execute_result"
    }
   ],
   "source": [
    "x[0]"
   ]
  },
  {
   "cell_type": "code",
   "execution_count": null,
   "metadata": {
    "collapsed": true
   },
   "outputs": [],
   "source": []
  }
 ],
 "metadata": {
  "hide_input": false,
  "kernelspec": {
   "display_name": "Python 3",
   "language": "python",
   "name": "python3"
  },
  "language_info": {
   "codemirror_mode": {
    "name": "ipython",
    "version": 3
   },
   "file_extension": ".py",
   "mimetype": "text/x-python",
   "name": "python",
   "nbconvert_exporter": "python",
   "pygments_lexer": "ipython3",
   "version": "3.7.4"
  },
  "latex_envs": {
   "LaTeX_envs_menu_present": true,
   "autoclose": false,
   "autocomplete": true,
   "bibliofile": "biblio.bib",
   "cite_by": "apalike",
   "current_citInitial": 1,
   "eqLabelWithNumbers": true,
   "eqNumInitial": 1,
   "hotkeys": {
    "equation": "Ctrl-E",
    "itemize": "Ctrl-I"
   },
   "labels_anchors": false,
   "latex_user_defs": false,
   "report_style_numbering": false,
   "user_envs_cfg": false
  },
  "toc": {
   "base_numbering": 1,
   "nav_menu": {},
   "number_sections": true,
   "sideBar": true,
   "skip_h1_title": false,
   "title_cell": "Table of Contents",
   "title_sidebar": "Contents",
   "toc_cell": false,
   "toc_position": {
    "height": "calc(100% - 180px)",
    "left": "10px",
    "top": "150px",
    "width": "165px"
   },
   "toc_section_display": true,
   "toc_window_display": true
  },
  "varInspector": {
   "cols": {
    "lenName": 16,
    "lenType": 16,
    "lenVar": 40
   },
   "kernels_config": {
    "python": {
     "delete_cmd_postfix": "",
     "delete_cmd_prefix": "del ",
     "library": "var_list.py",
     "varRefreshCmd": "print(var_dic_list())"
    },
    "r": {
     "delete_cmd_postfix": ") ",
     "delete_cmd_prefix": "rm(",
     "library": "var_list.r",
     "varRefreshCmd": "cat(var_dic_list()) "
    }
   },
   "types_to_exclude": [
    "module",
    "function",
    "builtin_function_or_method",
    "instance",
    "_Feature"
   ],
   "window_display": false
  }
 },
 "nbformat": 4,
 "nbformat_minor": 2
}
