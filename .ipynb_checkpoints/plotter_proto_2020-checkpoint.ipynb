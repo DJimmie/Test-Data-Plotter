{
 "cells": [
  {
   "cell_type": "code",
   "execution_count": 44,
   "metadata": {
    "ExecuteTime": {
     "end_time": "2020-06-02T21:31:55.135971Z",
     "start_time": "2020-06-02T21:31:55.100969Z"
    }
   },
   "outputs": [],
   "source": [
    "import pandas as pd\n",
    "import numpy as np\n",
    "import datetime\n",
    "import matplotlib.pyplot as plt\n",
    "import matplotlib.dates as mdates\n",
    "import matplotlib.colors as mcolors\n",
    "import math\n",
    "# from scipy.stats import skew\n",
    "# from scipy.stats import stats\n",
    "# from scipy import fftpack\n",
    "# import tkinter as tk\n",
    "# from tkinter import *\n",
    "# from tkinter.ttk import *\n",
    "from pandas.plotting import scatter_matrix\n",
    "from pandas.plotting import lag_plot\n",
    "from pandas.plotting import autocorrelation_plot\n",
    "from pandas.plotting import bootstrap_plot"
   ]
  },
  {
   "cell_type": "code",
   "execution_count": 45,
   "metadata": {
    "ExecuteTime": {
     "end_time": "2020-06-02T21:31:55.166973Z",
     "start_time": "2020-06-02T21:31:55.138972Z"
    },
    "collapsed": true
   },
   "outputs": [],
   "source": [
    "pd.set_option('precision',1)\n",
    "plt.style.use('ggplot')\n",
    "\n",
    "def get_data(location):\n",
    "    \n",
    "    my_data=pd.read_csv(location, skiprows=None,infer_datetime_format=True)\n",
    "\n",
    "    print(my_data.head(),'\\n')\n",
    "    print(my_data.info())\n",
    "\n",
    "    print(my_data.shape)\n",
    "    return my_data "
   ]
  },
  {
   "cell_type": "code",
   "execution_count": null,
   "metadata": {
    "collapsed": true
   },
   "outputs": [],
   "source": [
    "def data_metrics(my_data):\n",
    "    print(my_data.describe())\n",
    "    \n",
    "    #looking at the extremes of the test data\n",
    "    print(my_data.iloc[:,:].agg(['max','min']))\n",
    "    "
   ]
  },
  {
   "cell_type": "code",
   "execution_count": null,
   "metadata": {
    "collapsed": true,
    "deletable": false,
    "editable": false,
    "run_control": {
     "frozen": true
    }
   },
   "outputs": [],
   "source": [
    "def clean_data(my_data):\n",
    "    \n",
    "    print(my_data.head(),'\\n')\n",
    "\n",
    "##    Removes unwanted spaces in the header name.\n",
    "    my_data.columns = my_data.columns.to_series().apply(lambda x: x.strip())\n",
    "    \n",
    "    # Combining the Date and Time columns into the Time column. It will then be converted to a Datetime object.\n",
    "#     my_data['Time']=my_data[['DATE','TIME']].apply(lambda x: ' '.join(x), axis=1)\n",
    "\n",
    "\n",
    "    #Converting the Time column to a Datetime object\n",
    "#     my_data['Time']=pd.to_datetime(arg=my_data['Time'])\n",
    "\n",
    "    #removing the separate DATE  and TIME columns since the date and time have been joined under the Time column.\n",
    "#     my_data.drop('DATE',axis=1,inplace=True)\n",
    "#     my_data.drop('TIME',axis=1,inplace=True)\n",
    "\n",
    "    #Removed the NaN columns\n",
    "    my_data=my_data.dropna(axis=1)\n",
    "\n",
    "\n",
    "    # All of the columns named UNUSED\n",
    "    p=my_data.loc[:, my_data.columns.str.contains('UNUSED')].head()\n",
    "\n",
    "    #Removing the UNUSED columns\n",
    "##    my_data.drop(p,axis=1,inplace=True)\n",
    "\n",
    "    #replacing header spaces with underscores \n",
    "    my_data.columns=my_data.columns.str.replace(' ','_')\n",
    "\n",
    "    #replacing header dashes with underscores\n",
    "    my_data.columns=my_data.columns.str.replace('-','_')\n",
    "    my_data.columns=my_data.columns.str.replace(':','')\n",
    "    my_data.columns=my_data.columns.str.replace('@','')\n",
    "\n",
    "\n",
    "    #looking at the extremes of the test data\n",
    "    my_data.iloc[:,:].agg(['max','min'])\n",
    "\n",
    "    # make the Time column the Datetime index\n",
    "#     my_data.set_index('Time', inplace=True)\n",
    "    \n",
    "    \n",
    "    print(my_data.head(),'\\n')\n",
    "    print(my_data.info())\n",
    "    \n",
    "    return my_data"
   ]
  },
  {
   "cell_type": "code",
   "execution_count": null,
   "metadata": {},
   "outputs": [],
   "source": [
    "def plot_data(my_data,xlow=my_data.Time_in_Seconds.min(),xhigh=my_data.Time_in_Seconds.max()):\n",
    "    \n",
    "    fig, ax = plt.subplots(5,1,figsize=(15,10))\n",
    "\n",
    "#     plt.figure(figsize=(15,15))\n",
    "    plt.suptitle('The Graph')\n",
    "    \n",
    "    the_labels=my_data.columns.tolist()\n",
    "    print(the_labels)\n",
    "    \n",
    "#     xlow=my_data.Time_in_Seconds.min()\n",
    "#     xhigh=my_data.Time_in_Seconds.max()\n",
    "    \n",
    "#     ax[0]=plt.subplot(511)\n",
    "    ax[0].plot(my_data.Time_in_Seconds,my_data.Pilot,label=the_labels[6])\n",
    "    ax[0].set_xlabel('Time in Sesconds')\n",
    "    ax[0].set_ylabel('Pressure (PSIG)')\n",
    "    ax[0].set_xlim(xlow,xhigh)\n",
    "    ax[0].set_title('Pressure',loc='left')\n",
    "    ax[0].legend()\n",
    "    \n",
    "    ax[1]=plt.subplot(512)\n",
    "    ax[1].plot(my_data.Time_in_Seconds,my_data.SPM_Supply,label=the_labels[4])\n",
    "    ax[1].set_xlabel('Time in Sesconds')\n",
    "    ax[1].set_ylabel('Pressure (PSIG)')\n",
    "    ax[1].set_xlim(xlow,xhigh)\n",
    "    ax[1].set_title('Pressure',loc='left')\n",
    "    ax[1].legend()\n",
    "    \n",
    "    ax[2]=plt.subplot(513)\n",
    "    ax[2].plot(my_data.Time_in_Seconds,my_data.Solenoid,label=the_labels[5])\n",
    "    ax[2].set_xlabel('Time in Sesconds')\n",
    "    ax[2].set_ylabel('Pressure (PSIG)')\n",
    "    ax[2].set_xlim(xlow,xhigh)\n",
    "    ax[2].set_title('Pressure',loc='left')\n",
    "    ax[2].legend()\n",
    "    \n",
    "    ax[3]=plt.subplot(514)\n",
    "    ax[3].plot(my_data.Time_in_Seconds,my_data.Output__Filter, label=the_labels[3])\n",
    "    ax[3].set_xlabel('Time in Sesconds')\n",
    "    ax[3].set_ylabel('Pressure (PSIG)')\n",
    "    ax[3].set_xlim(xlow,xhigh)\n",
    "    ax[3].set_title('Pressure',loc='left')\n",
    "    ax[3].legend()\n",
    "    \n",
    "    \n",
    "    ax[4]=plt.subplot(515)\n",
    "    ax[4].plot(my_data.Time_in_Seconds,my_data.Supply__Filter,label=the_labels[7])\n",
    "    ax[4].set_xlabel('Time in Sesconds')\n",
    "    ax[4].set_ylabel('Pressure (PSIG)')\n",
    "    ax[4].set_xlim(xlow,xhigh)\n",
    "    ax[4].set_title('Pressure',loc='left')\n",
    "    ax[4].legend()\n",
    "    \n",
    "    \n",
    "    \n",
    "    plt.show()\n",
    "    \n",
    "    fig.savefig(r'C:\\Users\\96015\\Desktop\\Programming\\test_data_plotter\\hammer_plot.png', dpi=600)\n",
    "    \n",
    "\n",
    "    "
   ]
  },
  {
   "cell_type": "code",
   "execution_count": 48,
   "metadata": {
    "ExecuteTime": {
     "end_time": "2020-06-02T21:39:20.615451Z",
     "start_time": "2020-06-02T21:39:20.124423Z"
    },
    "scrolled": false
   },
   "outputs": [
    {
     "name": "stdout",
     "output_type": "stream",
     "text": [
      "       DATE      TIME  Regulator Inlet Pressure  Regulator Out Pressure  \\\n",
      "0  2/1/2017  12:41:45                     30158                   30108   \n",
      "1  2/1/2017  12:41:46                     30166                   30117   \n",
      "2  2/1/2017  12:41:47                     30181                   30133   \n",
      "3  2/1/2017  12:41:48                     30192                   30146   \n",
      "4  2/1/2017  12:41:49                     30209                   30158   \n",
      "\n",
      "    AMBIENT   LINE IN   REG BOD   LINE OUT  \n",
      "0      70.7      63.1      66.7       65.7  \n",
      "1      70.7      63.1      66.7       65.7  \n",
      "2      70.7      63.1      66.7       65.7  \n",
      "3      70.7      63.1      66.7       65.7  \n",
      "4      70.7      63.1      66.7       65.7   \n",
      "\n",
      "<class 'pandas.core.frame.DataFrame'>\n",
      "RangeIndex: 8672 entries, 0 to 8671\n",
      "Data columns (total 8 columns):\n",
      "    DATE                    8672 non-null object\n",
      "    TIME                    8672 non-null object\n",
      "Regulator Inlet Pressure    8672 non-null int64\n",
      "Regulator Out Pressure      8672 non-null int64\n",
      " AMBIENT                    8672 non-null float64\n",
      " LINE IN                    8672 non-null float64\n",
      " REG BOD                    8672 non-null float64\n",
      " LINE OUT                   8672 non-null float64\n",
      "dtypes: float64(4), int64(2), object(2)\n",
      "memory usage: 542.1+ KB\n",
      "None\n",
      "(8672, 8)\n",
      "       Regulator Inlet Pressure  Regulator Out Pressure   AMBIENT   LINE IN  \\\n",
      "count                    8672.0                  8672.0    8672.0    8672.0   \n",
      "mean                    29887.0                 23910.2      70.2      62.9   \n",
      "std                       948.1                  7550.1       0.6       0.3   \n",
      "min                        41.0                    92.0      67.4      62.3   \n",
      "25%                     29834.0                 17192.2      69.8      62.6   \n",
      "50%                     29960.0                 29475.0      70.3      63.0   \n",
      "75%                     30060.0                 29955.0      70.7      63.1   \n",
      "max                     30484.0                 30227.0      72.2      63.2   \n",
      "\n",
      "        REG BOD   LINE OUT  \n",
      "count    8672.0     8672.0  \n",
      "mean       75.2       70.5  \n",
      "std         3.4        2.3  \n",
      "min        66.6       65.1  \n",
      "25%        72.3       68.8  \n",
      "50%        76.1       71.1  \n",
      "75%        78.4       72.5  \n",
      "max        79.1       73.7  \n",
      "         DATE      TIME  Regulator Inlet Pressure  Regulator Out Pressure  \\\n",
      "max  2/1/2017  15:06:53                     30484                   30227   \n",
      "min  2/1/2017  12:41:45                        41                      92   \n",
      "\n",
      "      AMBIENT   LINE IN   REG BOD   LINE OUT  \n",
      "max      72.2      63.2      79.1       73.7  \n",
      "min      67.4      62.3      66.6       65.1  \n"
     ]
    }
   ],
   "source": [
    "if __name__ == '__main__':\n",
    "    Location='rawData1.csv'\n",
    "    my_data=get_data(Location)\n",
    "#     my_data=clean_data(my_data)\n",
    "    data_metrics(my_data)\n",
    "#     plot_data(my_data)\n",
    "    \n",
    "    \n",
    "    "
   ]
  },
  {
   "cell_type": "code",
   "execution_count": null,
   "metadata": {
    "collapsed": true
   },
   "outputs": [],
   "source": []
  }
 ],
 "metadata": {
  "hide_input": false,
  "kernelspec": {
   "display_name": "Python 3",
   "language": "python",
   "name": "python3"
  },
  "language_info": {
   "codemirror_mode": {
    "name": "ipython",
    "version": 3
   },
   "file_extension": ".py",
   "mimetype": "text/x-python",
   "name": "python",
   "nbconvert_exporter": "python",
   "pygments_lexer": "ipython3",
   "version": "3.6.3"
  },
  "latex_envs": {
   "LaTeX_envs_menu_present": true,
   "autoclose": false,
   "autocomplete": true,
   "bibliofile": "biblio.bib",
   "cite_by": "apalike",
   "current_citInitial": 1,
   "eqLabelWithNumbers": true,
   "eqNumInitial": 1,
   "hotkeys": {
    "equation": "Ctrl-E",
    "itemize": "Ctrl-I"
   },
   "labels_anchors": false,
   "latex_user_defs": false,
   "report_style_numbering": false,
   "user_envs_cfg": false
  },
  "toc": {
   "base_numbering": 1,
   "nav_menu": {},
   "number_sections": true,
   "sideBar": true,
   "skip_h1_title": false,
   "title_cell": "Table of Contents",
   "title_sidebar": "Contents",
   "toc_cell": false,
   "toc_position": {},
   "toc_section_display": true,
   "toc_window_display": false
  },
  "varInspector": {
   "cols": {
    "lenName": 16,
    "lenType": 16,
    "lenVar": 40
   },
   "kernels_config": {
    "python": {
     "delete_cmd_postfix": "",
     "delete_cmd_prefix": "del ",
     "library": "var_list.py",
     "varRefreshCmd": "print(var_dic_list())"
    },
    "r": {
     "delete_cmd_postfix": ") ",
     "delete_cmd_prefix": "rm(",
     "library": "var_list.r",
     "varRefreshCmd": "cat(var_dic_list()) "
    }
   },
   "types_to_exclude": [
    "module",
    "function",
    "builtin_function_or_method",
    "instance",
    "_Feature"
   ],
   "window_display": false
  }
 },
 "nbformat": 4,
 "nbformat_minor": 2
}
